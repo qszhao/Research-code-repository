{
 "cells": [
  {
   "cell_type": "code",
   "execution_count": 1,
   "metadata": {
    "collapsed": true
   },
   "outputs": [],
   "source": [
    "from skimage import io\n",
    "import numpy as np"
   ]
  },
  {
   "cell_type": "code",
   "execution_count": 2,
   "metadata": {
    "collapsed": false
   },
   "outputs": [],
   "source": [
    "# Read\n",
    "f142001 = io.imread('/Users/qszhao/Dropbox/AGU research/NTL-intercalibration/F142001.v4b_web.stable_lights.avg_vis_clip.tif')\n",
    "f152001 = io.imread('/Users/qszhao/Dropbox/AGU research/NTL-intercalibration/F152001.v4b_web.stable_lights.avg_vis_clip.tif')\n",
    "f14152001 = np.zeros((173,272))"
   ]
  },
  {
   "cell_type": "code",
   "execution_count": 3,
   "metadata": {
    "collapsed": false
   },
   "outputs": [
    {
     "name": "stdout",
     "output_type": "stream",
     "text": [
      "272\n"
     ]
    }
   ],
   "source": [
    "column = len(f142001[0])\n",
    "print column"
   ]
  },
  {
   "cell_type": "code",
   "execution_count": 4,
   "metadata": {
    "collapsed": false
   },
   "outputs": [
    {
     "name": "stdout",
     "output_type": "stream",
     "text": [
      "173\n"
     ]
    }
   ],
   "source": [
    "row = len(f142001)\n",
    "print row"
   ]
  },
  {
   "cell_type": "code",
   "execution_count": 5,
   "metadata": {
    "collapsed": false
   },
   "outputs": [
    {
     "name": "stdout",
     "output_type": "stream",
     "text": [
      "[[ 0.14815  0.14815  0.14815 ...,  8.5849   3.3754   0.14815]\n",
      " [ 0.14815  0.14815  0.14815 ...,  8.5849   6.9008   0.14815]\n",
      " [ 0.14815  0.14815  0.14815 ...,  8.5849   6.9008   0.14815]\n",
      " ..., \n",
      " [ 0.14815  0.14815  0.14815 ...,  0.14815  0.14815  0.14815]\n",
      " [ 0.14815  0.14815  0.14815 ...,  0.14815  0.14815  0.14815]\n",
      " [ 0.14815  0.14815  0.14815 ...,  0.14815  0.14815  0.14815]]\n"
     ]
    }
   ],
   "source": [
    "for i in range(row):\n",
    "    for j in range(column):\n",
    "        f14152001[i][j] = (f152001[i][j] + f142001[i][j])/2\n",
    "        if f152001[i][j] == 0 and f142001[i][j] != 0:\n",
    "            f14152001[i][j] == 0\n",
    "        if f152001[i][j] == 0 and f142001[i][j] == 0:\n",
    "            f14152001[i][j] == 0\n",
    "            \n",
    "print f14152001"
   ]
  },
  {
   "cell_type": "code",
   "execution_count": 7,
   "metadata": {
    "collapsed": false
   },
   "outputs": [
    {
     "data": {
      "text/plain": [
       "62.617850000000004"
      ]
     },
     "execution_count": 7,
     "metadata": {},
     "output_type": "execute_result"
    }
   ],
   "source": [
    "np.max(f14152001)"
   ]
  },
  {
   "cell_type": "code",
   "execution_count": 8,
   "metadata": {
    "collapsed": false
   },
   "outputs": [],
   "source": [
    "io.imsave('/Users/qszhao/Dropbox/AGU research/NTL-intra-annual composition/F14152001.v4b_web.stable_lights.avg_vis_clip.tif',f14152001)"
   ]
  },
  {
   "cell_type": "code",
   "execution_count": null,
   "metadata": {
    "collapsed": true
   },
   "outputs": [],
   "source": []
  },
  {
   "cell_type": "code",
   "execution_count": null,
   "metadata": {
    "collapsed": true
   },
   "outputs": [],
   "source": []
  }
 ],
 "metadata": {
  "kernelspec": {
   "display_name": "Python 2",
   "language": "python",
   "name": "python2"
  },
  "language_info": {
   "codemirror_mode": {
    "name": "ipython",
    "version": 2
   },
   "file_extension": ".py",
   "mimetype": "text/x-python",
   "name": "python",
   "nbconvert_exporter": "python",
   "pygments_lexer": "ipython2",
   "version": "2.7.10"
  }
 },
 "nbformat": 4,
 "nbformat_minor": 0
}
