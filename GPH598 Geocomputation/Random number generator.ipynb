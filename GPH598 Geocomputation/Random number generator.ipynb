{
 "metadata": {
  "name": "",
  "signature": "sha256:1c46eee6d4a62a0c95e5cb9978b538da33f6890ec261fa5ab9f0699261c911b9"
 },
 "nbformat": 3,
 "nbformat_minor": 0,
 "worksheets": [
  {
   "cells": [
    {
     "cell_type": "code",
     "collapsed": false,
     "input": [
      "random.sample(xrange(1,19), 9)"
     ],
     "language": "python",
     "metadata": {},
     "outputs": [
      {
       "metadata": {},
       "output_type": "pyout",
       "prompt_number": 10,
       "text": [
        "[10, 16, 17, 18, 3, 8, 9, 6, 2]"
       ]
      }
     ],
     "prompt_number": 10
    },
    {
     "cell_type": "code",
     "collapsed": false,
     "input": [
      "import random\n",
      "a = range(1,50)\n",
      "for i in xrange(6):\n",
      "    b = a[random.randint(0,len(a)-i)]\n",
      "    a.remove(b)\n",
      "    print b"
     ],
     "language": "python",
     "metadata": {},
     "outputs": [
      {
       "output_type": "stream",
       "stream": "stdout",
       "text": [
        "22\n",
        "8\n",
        "44\n",
        "18\n",
        "43\n",
        "5\n"
       ]
      }
     ],
     "prompt_number": 13
    },
    {
     "cell_type": "markdown",
     "metadata": {},
     "source": [
      "http://stackoverflow.com/questions/13628725/how-to-generate-random-numbers-that-are-different\n",
      "http://stackoverflow.com/questions/8287167/python-generate-random-number-between-x-and-y-which-is-a-multiple-of-5\n",
      "https://docs.python.org/2/library/random.html"
     ]
    },
    {
     "cell_type": "code",
     "collapsed": false,
     "input": [],
     "language": "python",
     "metadata": {},
     "outputs": []
    }
   ],
   "metadata": {}
  }
 ]
}