{
 "cells": [
  {
   "cell_type": "code",
   "execution_count": 57,
   "metadata": {
    "collapsed": true
   },
   "outputs": [],
   "source": [
    "from skimage import io\n",
    "import numpy as np"
   ]
  },
  {
   "cell_type": "code",
   "execution_count": 58,
   "metadata": {
    "collapsed": false
   },
   "outputs": [],
   "source": [
    "# Read\n",
    "f14152000 = io.imread('/Users/qszhao/Dropbox/AGU research/NTL-intra-annual composition/F162009.v4b_web.stable_lights.avg_vis_clip.tif')\n",
    "f14152001 = io.imread('/Users/qszhao/Dropbox/AGU research/NTL-intra-annual composition/F182010.v4d_web.stable_lights.avg_vis_clip.tif')\n",
    "f14152002 = io.imread('/Users/qszhao/Dropbox/AGU research/NTL-intra-annual composition/F182011.v4c_web.stable_lights.avg_vis_clip.tif')\n"
   ]
  },
  {
   "cell_type": "code",
   "execution_count": 59,
   "metadata": {
    "collapsed": false
   },
   "outputs": [
    {
     "name": "stdout",
     "output_type": "stream",
     "text": [
      "272\n",
      "173\n"
     ]
    }
   ],
   "source": [
    "column = len(f14152000[0])\n",
    "print column\n",
    "row = len(f14152000)\n",
    "print row"
   ]
  },
  {
   "cell_type": "code",
   "execution_count": 60,
   "metadata": {
    "collapsed": false
   },
   "outputs": [],
   "source": [
    "for i in range(row):\n",
    "    for j in range(column):\n",
    "        if (f14152002[i][j] >0) and (f14152000[i][j] > f14152001[i][j]):\n",
    "            f14152001[i][j] = f14152000[i][j]\n",
    "            \n",
    "#print f14152001\n",
    "#print f14152000\n",
    "#np.max(f14152000)\n",
    "#np.max(f14152001)"
   ]
  },
  {
   "cell_type": "code",
   "execution_count": 61,
   "metadata": {
    "collapsed": false
   },
   "outputs": [],
   "source": [
    "io.imsave('/Users/qszhao/Dropbox/AGU research/NTL-inter-annual series correction/F182010.v4b_web.stable_lights.avg_vis_clip.tif',f14152001)"
   ]
  },
  {
   "cell_type": "markdown",
   "metadata": {
    "collapsed": true
   },
   "source": [
    "### After generating the image, two reference files (.tfw and .xml) need to be copied to the file folder with the same file name. Then, import the image to the ArcGIS, export the image to another folder then project the raster to the corrected projection. "
   ]
  },
  {
   "cell_type": "code",
   "execution_count": null,
   "metadata": {
    "collapsed": true
   },
   "outputs": [],
   "source": []
  }
 ],
 "metadata": {
  "kernelspec": {
   "display_name": "Python 2",
   "language": "python",
   "name": "python2"
  },
  "language_info": {
   "codemirror_mode": {
    "name": "ipython",
    "version": 2
   },
   "file_extension": ".py",
   "mimetype": "text/x-python",
   "name": "python",
   "nbconvert_exporter": "python",
   "pygments_lexer": "ipython2",
   "version": "2.7.10"
  }
 },
 "nbformat": 4,
 "nbformat_minor": 0
}
