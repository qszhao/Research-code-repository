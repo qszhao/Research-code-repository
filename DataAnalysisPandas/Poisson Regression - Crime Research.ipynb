{
 "cells": [
  {
   "cell_type": "code",
   "execution_count": 1,
   "metadata": {
    "collapsed": true
   },
   "outputs": [],
   "source": [
    "import pandas as pd"
   ]
  },
  {
   "cell_type": "code",
   "execution_count": 2,
   "metadata": {
    "collapsed": true
   },
   "outputs": [],
   "source": [
    "crime300 = pd.read_excel(open('300by300_0703.xlsx','rb'), sheetname='300by300')"
   ]
  },
  {
   "cell_type": "code",
   "execution_count": 3,
   "metadata": {},
   "outputs": [
    {
     "data": {
      "text/html": [
       "<div>\n",
       "<style>\n",
       "    .dataframe thead tr:only-child th {\n",
       "        text-align: right;\n",
       "    }\n",
       "\n",
       "    .dataframe thead th {\n",
       "        text-align: left;\n",
       "    }\n",
       "\n",
       "    .dataframe tbody tr th {\n",
       "        vertical-align: top;\n",
       "    }\n",
       "</style>\n",
       "<table border=\"1\" class=\"dataframe\">\n",
       "  <thead>\n",
       "    <tr style=\"text-align: right;\">\n",
       "      <th></th>\n",
       "      <th>FID</th>\n",
       "      <th>DIST_NightLight</th>\n",
       "      <th>DIST_Schools</th>\n",
       "      <th>DIST_Retailshops</th>\n",
       "      <th>DIST_Entertainment</th>\n",
       "      <th>DIST_Road</th>\n",
       "      <th>Count_DQDDZXC_Day</th>\n",
       "      <th>Count_DQMZ_Day</th>\n",
       "      <th>Count_LQ_Day</th>\n",
       "      <th>Count_DQDDZXC_Night</th>\n",
       "      <th>...</th>\n",
       "      <th>DQMZ_04_05</th>\n",
       "      <th>LQ_20_21</th>\n",
       "      <th>LQ_21_22</th>\n",
       "      <th>LQ_22_23</th>\n",
       "      <th>LQ_23_24</th>\n",
       "      <th>LQ_00_01</th>\n",
       "      <th>LQ_01_02</th>\n",
       "      <th>LQ_02_03</th>\n",
       "      <th>LQ_03_04</th>\n",
       "      <th>LQ_04_05</th>\n",
       "    </tr>\n",
       "  </thead>\n",
       "  <tbody>\n",
       "    <tr>\n",
       "      <th>0</th>\n",
       "      <td>0</td>\n",
       "      <td>76.054046</td>\n",
       "      <td>4993.914007</td>\n",
       "      <td>4373.106709</td>\n",
       "      <td>4486.681349</td>\n",
       "      <td>3521.385377</td>\n",
       "      <td>0</td>\n",
       "      <td>0</td>\n",
       "      <td>0</td>\n",
       "      <td>0</td>\n",
       "      <td>...</td>\n",
       "      <td>0</td>\n",
       "      <td>0</td>\n",
       "      <td>0</td>\n",
       "      <td>0</td>\n",
       "      <td>0</td>\n",
       "      <td>0</td>\n",
       "      <td>0</td>\n",
       "      <td>0</td>\n",
       "      <td>0</td>\n",
       "      <td>0</td>\n",
       "    </tr>\n",
       "    <tr>\n",
       "      <th>1</th>\n",
       "      <td>1</td>\n",
       "      <td>4.121342</td>\n",
       "      <td>4778.610975</td>\n",
       "      <td>4268.825746</td>\n",
       "      <td>4530.641053</td>\n",
       "      <td>3521.187359</td>\n",
       "      <td>0</td>\n",
       "      <td>0</td>\n",
       "      <td>0</td>\n",
       "      <td>0</td>\n",
       "      <td>...</td>\n",
       "      <td>0</td>\n",
       "      <td>0</td>\n",
       "      <td>0</td>\n",
       "      <td>0</td>\n",
       "      <td>0</td>\n",
       "      <td>0</td>\n",
       "      <td>0</td>\n",
       "      <td>0</td>\n",
       "      <td>0</td>\n",
       "      <td>0</td>\n",
       "    </tr>\n",
       "    <tr>\n",
       "      <th>2</th>\n",
       "      <td>2</td>\n",
       "      <td>0.000000</td>\n",
       "      <td>4572.862187</td>\n",
       "      <td>4123.051930</td>\n",
       "      <td>4402.142756</td>\n",
       "      <td>3530.969940</td>\n",
       "      <td>0</td>\n",
       "      <td>0</td>\n",
       "      <td>0</td>\n",
       "      <td>0</td>\n",
       "      <td>...</td>\n",
       "      <td>0</td>\n",
       "      <td>0</td>\n",
       "      <td>0</td>\n",
       "      <td>0</td>\n",
       "      <td>0</td>\n",
       "      <td>0</td>\n",
       "      <td>0</td>\n",
       "      <td>0</td>\n",
       "      <td>0</td>\n",
       "      <td>0</td>\n",
       "    </tr>\n",
       "    <tr>\n",
       "      <th>3</th>\n",
       "      <td>3</td>\n",
       "      <td>114.055224</td>\n",
       "      <td>4506.630356</td>\n",
       "      <td>4078.208579</td>\n",
       "      <td>4330.714563</td>\n",
       "      <td>3565.857886</td>\n",
       "      <td>0</td>\n",
       "      <td>0</td>\n",
       "      <td>0</td>\n",
       "      <td>0</td>\n",
       "      <td>...</td>\n",
       "      <td>0</td>\n",
       "      <td>0</td>\n",
       "      <td>0</td>\n",
       "      <td>0</td>\n",
       "      <td>0</td>\n",
       "      <td>0</td>\n",
       "      <td>0</td>\n",
       "      <td>0</td>\n",
       "      <td>0</td>\n",
       "      <td>0</td>\n",
       "    </tr>\n",
       "    <tr>\n",
       "      <th>4</th>\n",
       "      <td>4</td>\n",
       "      <td>443.335461</td>\n",
       "      <td>5266.558765</td>\n",
       "      <td>3966.642441</td>\n",
       "      <td>4107.641701</td>\n",
       "      <td>3283.634430</td>\n",
       "      <td>0</td>\n",
       "      <td>0</td>\n",
       "      <td>0</td>\n",
       "      <td>0</td>\n",
       "      <td>...</td>\n",
       "      <td>0</td>\n",
       "      <td>0</td>\n",
       "      <td>0</td>\n",
       "      <td>0</td>\n",
       "      <td>0</td>\n",
       "      <td>0</td>\n",
       "      <td>0</td>\n",
       "      <td>0</td>\n",
       "      <td>0</td>\n",
       "      <td>0</td>\n",
       "    </tr>\n",
       "  </tbody>\n",
       "</table>\n",
       "<p>5 rows × 47 columns</p>\n",
       "</div>"
      ],
      "text/plain": [
       "   FID  DIST_NightLight  DIST_Schools  DIST_Retailshops  DIST_Entertainment  \\\n",
       "0    0        76.054046   4993.914007       4373.106709         4486.681349   \n",
       "1    1         4.121342   4778.610975       4268.825746         4530.641053   \n",
       "2    2         0.000000   4572.862187       4123.051930         4402.142756   \n",
       "3    3       114.055224   4506.630356       4078.208579         4330.714563   \n",
       "4    4       443.335461   5266.558765       3966.642441         4107.641701   \n",
       "\n",
       "     DIST_Road  Count_DQDDZXC_Day  Count_DQMZ_Day  Count_LQ_Day  \\\n",
       "0  3521.385377                  0               0             0   \n",
       "1  3521.187359                  0               0             0   \n",
       "2  3530.969940                  0               0             0   \n",
       "3  3565.857886                  0               0             0   \n",
       "4  3283.634430                  0               0             0   \n",
       "\n",
       "   Count_DQDDZXC_Night    ...     DQMZ_04_05  LQ_20_21  LQ_21_22  LQ_22_23  \\\n",
       "0                    0    ...              0         0         0         0   \n",
       "1                    0    ...              0         0         0         0   \n",
       "2                    0    ...              0         0         0         0   \n",
       "3                    0    ...              0         0         0         0   \n",
       "4                    0    ...              0         0         0         0   \n",
       "\n",
       "   LQ_23_24  LQ_00_01  LQ_01_02  LQ_02_03  LQ_03_04  LQ_04_05  \n",
       "0         0         0         0         0         0         0  \n",
       "1         0         0         0         0         0         0  \n",
       "2         0         0         0         0         0         0  \n",
       "3         0         0         0         0         0         0  \n",
       "4         0         0         0         0         0         0  \n",
       "\n",
       "[5 rows x 47 columns]"
      ]
     },
     "execution_count": 3,
     "metadata": {},
     "output_type": "execute_result"
    }
   ],
   "source": [
    "crime300.head()"
   ]
  },
  {
   "cell_type": "code",
   "execution_count": 4,
   "metadata": {},
   "outputs": [
    {
     "data": {
      "text/plain": [
       "FID                         False\n",
       "DIST_NightLight             False\n",
       "DIST_Schools                False\n",
       "DIST_Retailshops            False\n",
       "DIST_Entertainment          False\n",
       "DIST_Road                   False\n",
       "Count_DQDDZXC_Day           False\n",
       "Count_DQMZ_Day              False\n",
       "Count_LQ_Day                False\n",
       "Count_DQDDZXC_Night         False\n",
       "Count_DQMZ_Night            False\n",
       "Count_LQ_Night              False\n",
       "NDVI_Average                False\n",
       "NDBI_Average                False\n",
       "DIST_NightLight_Above15     False\n",
       "DIST_NightLight_Above30     False\n",
       "DIST_NightLight_Above50     False\n",
       "DIST_NightLight_Above110    False\n",
       "VIIRS_Value                 False\n",
       "EROSB_Average               False\n",
       "DQDDZXC_20_21               False\n",
       "DQDDZXC_21_22               False\n",
       "DQDDZXC_22_23               False\n",
       "DQDDZXC_23_24               False\n",
       "DQDDZXC_00_01               False\n",
       "DQDDZXC_01_02               False\n",
       "DQDDZXC_02_03               False\n",
       "DQDDZXC_03_04               False\n",
       "DQDDZXC_04_05               False\n",
       "DQMZ_20_21                  False\n",
       "DQMZ_21_22                  False\n",
       "DQMZ_22_23                  False\n",
       "DQMZ_23_24                  False\n",
       "DQMZ_00_01                  False\n",
       "DQMZ_01_02                  False\n",
       "DQMZ_02_03                  False\n",
       "DQMZ_03_04                  False\n",
       "DQMZ_04_05                  False\n",
       "LQ_20_21                    False\n",
       "LQ_21_22                    False\n",
       "LQ_22_23                    False\n",
       "LQ_23_24                    False\n",
       "LQ_00_01                    False\n",
       "LQ_01_02                    False\n",
       "LQ_02_03                    False\n",
       "LQ_03_04                    False\n",
       "LQ_04_05                    False\n",
       "dtype: bool"
      ]
     },
     "execution_count": 4,
     "metadata": {},
     "output_type": "execute_result"
    }
   ],
   "source": [
    "crime300.isnull().any()"
   ]
  },
  {
   "cell_type": "code",
   "execution_count": 5,
   "metadata": {},
   "outputs": [
    {
     "data": {
      "text/plain": [
       "FID                         1963\n",
       "DIST_NightLight              363\n",
       "DIST_Schools                1868\n",
       "DIST_Retailshops            1881\n",
       "DIST_Entertainment          1783\n",
       "DIST_Road                    598\n",
       "Count_DQDDZXC_Day            799\n",
       "Count_DQMZ_Day               775\n",
       "Count_LQ_Day                 135\n",
       "Count_DQDDZXC_Night          440\n",
       "Count_DQMZ_Night             403\n",
       "Count_LQ_Night               100\n",
       "NDVI_Average                1964\n",
       "NDBI_Average                1964\n",
       "DIST_NightLight_Above15      386\n",
       "DIST_NightLight_Above30      391\n",
       "DIST_NightLight_Above50      405\n",
       "DIST_NightLight_Above110     481\n",
       "VIIRS_Value                 1964\n",
       "EROSB_Average               1599\n",
       "DQDDZXC_20_21                213\n",
       "DQDDZXC_21_22                209\n",
       "DQDDZXC_22_23                149\n",
       "DQDDZXC_23_24                 93\n",
       "DQDDZXC_00_01                 43\n",
       "DQDDZXC_01_02                 36\n",
       "DQDDZXC_02_03                 23\n",
       "DQDDZXC_03_04                 19\n",
       "DQDDZXC_04_05                 38\n",
       "DQMZ_20_21                   151\n",
       "DQMZ_21_22                   146\n",
       "DQMZ_22_23                   101\n",
       "DQMZ_23_24                    53\n",
       "DQMZ_00_01                    45\n",
       "DQMZ_01_02                    37\n",
       "DQMZ_02_03                    48\n",
       "DQMZ_03_04                    61\n",
       "DQMZ_04_05                    80\n",
       "LQ_20_21                      16\n",
       "LQ_21_22                      18\n",
       "LQ_22_23                      17\n",
       "LQ_23_24                      20\n",
       "LQ_00_01                      12\n",
       "LQ_01_02                      13\n",
       "LQ_02_03                       6\n",
       "LQ_03_04                       5\n",
       "LQ_04_05                       3\n",
       "dtype: int64"
      ]
     },
     "execution_count": 5,
     "metadata": {},
     "output_type": "execute_result"
    }
   ],
   "source": [
    "# count non zero\n",
    "# https://stackoverflow.com/questions/26053849/counting-non-zero-values-in-each-column-of-a-dataframe-in-python\n",
    "crime300.astype(bool).sum(axis=0)"
   ]
  },
  {
   "cell_type": "code",
   "execution_count": 6,
   "metadata": {
    "collapsed": true
   },
   "outputs": [],
   "source": [
    "# http://nbviewer.jupyter.org/urls/umich.box.com/shared/static/ir0bnkup9rywmqd54zvm.ipynb\n",
    "# https://stackoverflow.com/questions/37941881/how-to-implement-poisson-regression\n",
    "import matplotlib.pyplot as plt\n",
    "%matplotlib inline\n",
    "\n",
    "import numpy as np\n",
    "from statsmodels.genmod.generalized_estimating_equations import GEE\n",
    "from statsmodels.genmod.cov_struct import (Exchangeable,\n",
    "    Independence,Autoregressive)\n",
    "from statsmodels.genmod.families import Poisson"
   ]
  },
  {
   "cell_type": "code",
   "execution_count": 27,
   "metadata": {},
   "outputs": [
    {
     "name": "stdout",
     "output_type": "stream",
     "text": [
      "                               GEE Regression Results                              \n",
      "===================================================================================\n",
      "Dep. Variable:               DQDDZXC_20_21   No. Observations:                 1964\n",
      "Model:                                 GEE   No. clusters:                     1964\n",
      "Method:                        Generalized   Min. cluster size:                   1\n",
      "                      Estimating Equations   Max. cluster size:                   1\n",
      "Family:                            Poisson   Mean cluster size:                 1.0\n",
      "Dependence structure:         Independence   Num. iterations:                    13\n",
      "Date:                     Tue, 03 Jul 2018   Scale:                           1.000\n",
      "Covariance type:                    robust   Time:                         16:56:15\n",
      "============================================================================================\n",
      "                               coef    std err          z      P>|z|      [0.025      0.975]\n",
      "--------------------------------------------------------------------------------------------\n",
      "Intercept                   -1.5938      0.093    -17.190      0.000      -1.776      -1.412\n",
      "DIST_NightLight_Above110    -0.0527      0.019     -2.785      0.005      -0.090      -0.016\n",
      "EROSB_Average                0.0188      0.005      3.542      0.000       0.008       0.029\n",
      "==============================================================================\n",
      "Skew:                          5.7165   Kurtosis:                      43.1320\n",
      "Centered skew:                 0.0000   Centered kurtosis:             -3.0000\n",
      "==============================================================================\n"
     ]
    }
   ],
   "source": [
    "# \"FID\": groups. No group, using regular ID\n",
    "fam = Poisson()\n",
    "ind = Independence()\n",
    "model1 = GEE.from_formula(\"DQDDZXC_20_21 ~ DIST_NightLight_Above110 + EROSB_Average\", \"FID\", crime300, cov_struct=ind, family=fam)\n",
    "result1 = model1.fit()\n",
    "print(result1.summary())"
   ]
  },
  {
   "cell_type": "code",
   "execution_count": 8,
   "metadata": {},
   "outputs": [
    {
     "name": "stdout",
     "output_type": "stream",
     "text": [
      "                               GEE Regression Results                              \n",
      "===================================================================================\n",
      "Dep. Variable:               DQDDZXC_21_22   No. Observations:                 1964\n",
      "Model:                                 GEE   No. clusters:                     1964\n",
      "Method:                        Generalized   Min. cluster size:                   1\n",
      "                      Estimating Equations   Max. cluster size:                   1\n",
      "Family:                            Poisson   Mean cluster size:                 1.0\n",
      "Dependence structure:         Independence   Num. iterations:                    12\n",
      "Date:                     Tue, 03 Jul 2018   Scale:                           1.000\n",
      "Covariance type:                    robust   Time:                         16:44:34\n",
      "============================================================================================\n",
      "                               coef    std err          z      P>|z|      [0.025      0.975]\n",
      "--------------------------------------------------------------------------------------------\n",
      "Intercept                   -1.4890      0.094    -15.859      0.000      -1.673      -1.305\n",
      "DIST_NightLight_Above110    -0.0427      0.018     -2.339      0.019      -0.079      -0.007\n",
      "==============================================================================\n",
      "Skew:                          9.2276   Kurtosis:                     142.4028\n",
      "Centered skew:                 0.0000   Centered kurtosis:             -3.0000\n",
      "==============================================================================\n"
     ]
    }
   ],
   "source": [
    "model2 = GEE.from_formula(\"DQDDZXC_21_22 ~ DIST_NightLight_Above110\", \"FID\", crime300, cov_struct=ind, family=fam)\n",
    "result2 = model2.fit()\n",
    "print(result2.summary())"
   ]
  },
  {
   "cell_type": "code",
   "execution_count": 9,
   "metadata": {},
   "outputs": [
    {
     "name": "stdout",
     "output_type": "stream",
     "text": [
      "                               GEE Regression Results                              \n",
      "===================================================================================\n",
      "Dep. Variable:               DQDDZXC_22_23   No. Observations:                 1964\n",
      "Model:                                 GEE   No. clusters:                     1964\n",
      "Method:                        Generalized   Min. cluster size:                   1\n",
      "                      Estimating Equations   Max. cluster size:                   1\n",
      "Family:                            Poisson   Mean cluster size:                 1.0\n",
      "Dependence structure:         Independence   Num. iterations:                    12\n",
      "Date:                     Tue, 03 Jul 2018   Scale:                           1.000\n",
      "Covariance type:                    robust   Time:                         16:44:34\n",
      "============================================================================================\n",
      "                               coef    std err          z      P>|z|      [0.025      0.975]\n",
      "--------------------------------------------------------------------------------------------\n",
      "Intercept                   -1.9799      0.095    -20.739      0.000      -2.167      -1.793\n",
      "DIST_NightLight_Above110    -0.0406      0.014     -2.984      0.003      -0.067      -0.014\n",
      "==============================================================================\n",
      "Skew:                          6.3621   Kurtosis:                      58.7270\n",
      "Centered skew:                 0.0000   Centered kurtosis:             -3.0000\n",
      "==============================================================================\n"
     ]
    }
   ],
   "source": [
    "model3 = GEE.from_formula(\"DQDDZXC_22_23 ~ DIST_NightLight_Above110\", \"FID\", crime300, cov_struct=ind, family=fam)\n",
    "result3 = model3.fit()\n",
    "print(result3.summary())"
   ]
  },
  {
   "cell_type": "code",
   "execution_count": 10,
   "metadata": {},
   "outputs": [
    {
     "name": "stdout",
     "output_type": "stream",
     "text": [
      "                               GEE Regression Results                              \n",
      "===================================================================================\n",
      "Dep. Variable:               DQDDZXC_23_24   No. Observations:                 1964\n",
      "Model:                                 GEE   No. clusters:                     1964\n",
      "Method:                        Generalized   Min. cluster size:                   1\n",
      "                      Estimating Equations   Max. cluster size:                   1\n",
      "Family:                            Poisson   Mean cluster size:                 1.0\n",
      "Dependence structure:         Independence   Num. iterations:                    14\n",
      "Date:                     Tue, 03 Jul 2018   Scale:                           1.000\n",
      "Covariance type:                    robust   Time:                         16:44:35\n",
      "============================================================================================\n",
      "                               coef    std err          z      P>|z|      [0.025      0.975]\n",
      "--------------------------------------------------------------------------------------------\n",
      "Intercept                   -2.6816      0.115    -23.371      0.000      -2.907      -2.457\n",
      "DIST_NightLight_Above110    -0.0560      0.027     -2.061      0.039      -0.109      -0.003\n",
      "==============================================================================\n",
      "Skew:                          8.5916   Kurtosis:                     133.5542\n",
      "Centered skew:                 0.0000   Centered kurtosis:             -3.0000\n",
      "==============================================================================\n"
     ]
    }
   ],
   "source": [
    "model4 = GEE.from_formula(\"DQDDZXC_23_24 ~ DIST_NightLight_Above110\", \"FID\", crime300, cov_struct=ind, family=fam)\n",
    "result4 = model4.fit()\n",
    "print(result4.summary())"
   ]
  },
  {
   "cell_type": "code",
   "execution_count": 11,
   "metadata": {},
   "outputs": [
    {
     "name": "stdout",
     "output_type": "stream",
     "text": [
      "                               GEE Regression Results                              \n",
      "===================================================================================\n",
      "Dep. Variable:                  DQMZ_20_21   No. Observations:                 1964\n",
      "Model:                                 GEE   No. clusters:                     1964\n",
      "Method:                        Generalized   Min. cluster size:                   1\n",
      "                      Estimating Equations   Max. cluster size:                   1\n",
      "Family:                            Poisson   Mean cluster size:                 1.0\n",
      "Dependence structure:         Independence   Num. iterations:                    11\n",
      "Date:                     Tue, 03 Jul 2018   Scale:                           1.000\n",
      "Covariance type:                    robust   Time:                         16:44:35\n",
      "============================================================================================\n",
      "                               coef    std err          z      P>|z|      [0.025      0.975]\n",
      "--------------------------------------------------------------------------------------------\n",
      "Intercept                   -2.1865      0.086    -25.537      0.000      -2.354      -2.019\n",
      "DIST_NightLight_Above110    -0.0212      0.008     -2.551      0.011      -0.038      -0.005\n",
      "==============================================================================\n",
      "Skew:                          4.4149   Kurtosis:                      24.7375\n",
      "Centered skew:                 0.0000   Centered kurtosis:             -3.0000\n",
      "==============================================================================\n"
     ]
    }
   ],
   "source": [
    "model5 = GEE.from_formula(\"DQMZ_20_21 ~ DIST_NightLight_Above110\", \"FID\", crime300, cov_struct=ind, family=fam)\n",
    "result5 = model5.fit()\n",
    "print(result5.summary())"
   ]
  },
  {
   "cell_type": "code",
   "execution_count": 16,
   "metadata": {},
   "outputs": [
    {
     "name": "stdout",
     "output_type": "stream",
     "text": [
      "                               GEE Regression Results                              \n",
      "===================================================================================\n",
      "Dep. Variable:                  DQMZ_21_22   No. Observations:                 1964\n",
      "Model:                                 GEE   No. clusters:                     1964\n",
      "Method:                        Generalized   Min. cluster size:                   1\n",
      "                      Estimating Equations   Max. cluster size:                   1\n",
      "Family:                            Poisson   Mean cluster size:                 1.0\n",
      "Dependence structure:         Independence   Num. iterations:                    12\n",
      "Date:                     Tue, 03 Jul 2018   Scale:                           1.000\n",
      "Covariance type:                    robust   Time:                         16:46:33\n",
      "============================================================================================\n",
      "                               coef    std err          z      P>|z|      [0.025      0.975]\n",
      "--------------------------------------------------------------------------------------------\n",
      "Intercept                   -2.1762      0.091    -23.833      0.000      -2.355      -1.997\n",
      "DIST_NightLight_Above110    -0.0298      0.009     -3.175      0.001      -0.048      -0.011\n",
      "==============================================================================\n",
      "Skew:                          5.9119   Kurtosis:                      56.0770\n",
      "Centered skew:                 0.0000   Centered kurtosis:             -3.0000\n",
      "==============================================================================\n"
     ]
    }
   ],
   "source": [
    "model6 = GEE.from_formula(\"DQMZ_21_22 ~ DIST_NightLight_Above110\", \"FID\", crime300, cov_struct=ind, family=fam)\n",
    "result6 = model6.fit()\n",
    "print(result6.summary())"
   ]
  },
  {
   "cell_type": "code",
   "execution_count": 17,
   "metadata": {},
   "outputs": [
    {
     "name": "stdout",
     "output_type": "stream",
     "text": [
      "                               GEE Regression Results                              \n",
      "===================================================================================\n",
      "Dep. Variable:                  DQMZ_22_23   No. Observations:                 1964\n",
      "Model:                                 GEE   No. clusters:                     1964\n",
      "Method:                        Generalized   Min. cluster size:                   1\n",
      "                      Estimating Equations   Max. cluster size:                   1\n",
      "Family:                            Poisson   Mean cluster size:                 1.0\n",
      "Dependence structure:         Independence   Num. iterations:                    11\n",
      "Date:                     Tue, 03 Jul 2018   Scale:                           1.000\n",
      "Covariance type:                    robust   Time:                         16:46:42\n",
      "============================================================================================\n",
      "                               coef    std err          z      P>|z|      [0.025      0.975]\n",
      "--------------------------------------------------------------------------------------------\n",
      "Intercept                   -2.6551      0.108    -24.558      0.000      -2.867      -2.443\n",
      "DIST_NightLight_Above110    -0.0116      0.005     -2.555      0.011      -0.020      -0.003\n",
      "==============================================================================\n",
      "Skew:                          5.6100   Kurtosis:                      39.3579\n",
      "Centered skew:                 0.0000   Centered kurtosis:             -3.0000\n",
      "==============================================================================\n"
     ]
    }
   ],
   "source": [
    "model7 = GEE.from_formula(\"DQMZ_22_23 ~ DIST_NightLight_Above110\", \"FID\", crime300, cov_struct=ind, family=fam)\n",
    "result7 = model7.fit()\n",
    "print(result7.summary())"
   ]
  },
  {
   "cell_type": "code",
   "execution_count": 18,
   "metadata": {},
   "outputs": [
    {
     "name": "stdout",
     "output_type": "stream",
     "text": [
      "                               GEE Regression Results                              \n",
      "===================================================================================\n",
      "Dep. Variable:                  DQMZ_23_24   No. Observations:                 1964\n",
      "Model:                                 GEE   No. clusters:                     1964\n",
      "Method:                        Generalized   Min. cluster size:                   1\n",
      "                      Estimating Equations   Max. cluster size:                   1\n",
      "Family:                            Poisson   Mean cluster size:                 1.0\n",
      "Dependence structure:         Independence   Num. iterations:                    14\n",
      "Date:                     Tue, 03 Jul 2018   Scale:                           1.000\n",
      "Covariance type:                    robust   Time:                         16:51:28\n",
      "============================================================================================\n",
      "                               coef    std err          z      P>|z|      [0.025      0.975]\n",
      "--------------------------------------------------------------------------------------------\n",
      "Intercept                   -3.2648      0.142    -23.033      0.000      -3.543      -2.987\n",
      "DIST_NightLight_Above110    -0.0450      0.020     -2.268      0.023      -0.084      -0.006\n",
      "==============================================================================\n",
      "Skew:                          6.7698   Kurtosis:                      50.6419\n",
      "Centered skew:                 0.0000   Centered kurtosis:             -3.0000\n",
      "==============================================================================\n"
     ]
    }
   ],
   "source": [
    "model8 = GEE.from_formula(\"DQMZ_23_24 ~ DIST_NightLight_Above110\", \"FID\", crime300, cov_struct=ind, family=fam)\n",
    "result8 = model8.fit()\n",
    "print(result8.summary())"
   ]
  },
  {
   "cell_type": "code",
   "execution_count": 23,
   "metadata": {},
   "outputs": [
    {
     "name": "stdout",
     "output_type": "stream",
     "text": [
      "                               GEE Regression Results                              \n",
      "===================================================================================\n",
      "Dep. Variable:                  DQMZ_04_05   No. Observations:                 1964\n",
      "Model:                                 GEE   No. clusters:                     1964\n",
      "Method:                        Generalized   Min. cluster size:                   1\n",
      "                      Estimating Equations   Max. cluster size:                   1\n",
      "Family:                            Poisson   Mean cluster size:                 1.0\n",
      "Dependence structure:         Independence   Num. iterations:                    13\n",
      "Date:                     Tue, 03 Jul 2018   Scale:                           1.000\n",
      "Covariance type:                    robust   Time:                         16:53:38\n",
      "============================================================================================\n",
      "                               coef    std err          z      P>|z|      [0.025      0.975]\n",
      "--------------------------------------------------------------------------------------------\n",
      "Intercept                   -2.7922      0.118    -23.597      0.000      -3.024      -2.560\n",
      "DIST_NightLight_Above110    -0.0403      0.016     -2.529      0.011      -0.072      -0.009\n",
      "==============================================================================\n",
      "Skew:                          6.0315   Kurtosis:                      43.1266\n",
      "Centered skew:                 0.0000   Centered kurtosis:             -3.0000\n",
      "==============================================================================\n"
     ]
    }
   ],
   "source": [
    "model9 = GEE.from_formula(\"DQMZ_04_05 ~ DIST_NightLight_Above110\", \"FID\", crime300, cov_struct=ind, family=fam)\n",
    "result9 = model9.fit()\n",
    "print(result9.summary())"
   ]
  },
  {
   "cell_type": "code",
   "execution_count": 25,
   "metadata": {},
   "outputs": [
    {
     "name": "stdout",
     "output_type": "stream",
     "text": [
      "                               GEE Regression Results                              \n",
      "===================================================================================\n",
      "Dep. Variable:                    LQ_21_22   No. Observations:                 1964\n",
      "Model:                                 GEE   No. clusters:                     1964\n",
      "Method:                        Generalized   Min. cluster size:                   1\n",
      "                      Estimating Equations   Max. cluster size:                   1\n",
      "Family:                            Poisson   Mean cluster size:                 1.0\n",
      "Dependence structure:         Independence   Num. iterations:                    60\n",
      "Date:                     Tue, 03 Jul 2018   Scale:                           1.000\n",
      "Covariance type:                    robust   Time:                         16:54:30\n",
      "============================================================================================\n",
      "                               coef    std err          z      P>|z|      [0.025      0.975]\n",
      "--------------------------------------------------------------------------------------------\n",
      "Intercept                       nan        nan        nan        nan         nan         nan\n",
      "DIST_NightLight_Above110        nan        nan        nan        nan         nan         nan\n",
      "==============================================================================\n",
      "Skew:                             nan   Kurtosis:                          nan\n",
      "Centered skew:                    nan   Centered kurtosis:                 nan\n",
      "==============================================================================\n"
     ]
    }
   ],
   "source": [
    "model10 = GEE.from_formula(\"LQ_21_22 ~ DIST_NightLight_Above110\", \"FID\", crime300, cov_struct=ind, family=fam)\n",
    "result10 = model10.fit()\n",
    "print(result10.summary())"
   ]
  },
  {
   "cell_type": "code",
   "execution_count": null,
   "metadata": {
    "collapsed": true
   },
   "outputs": [],
   "source": []
  }
 ],
 "metadata": {
  "kernelspec": {
   "display_name": "Python [Root]",
   "language": "python",
   "name": "Python [Root]"
  },
  "language_info": {
   "codemirror_mode": {
    "name": "ipython",
    "version": 2
   },
   "file_extension": ".py",
   "mimetype": "text/x-python",
   "name": "python",
   "nbconvert_exporter": "python",
   "pygments_lexer": "ipython2",
   "version": "2.7.13"
  }
 },
 "nbformat": 4,
 "nbformat_minor": 2
}
