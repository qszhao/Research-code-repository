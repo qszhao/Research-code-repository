{
 "cells": [
  {
   "cell_type": "code",
   "execution_count": 1,
   "metadata": {
    "collapsed": true
   },
   "outputs": [],
   "source": [
    "import pandas as pd"
   ]
  },
  {
   "cell_type": "code",
   "execution_count": 2,
   "metadata": {
    "collapsed": false
   },
   "outputs": [
    {
     "ename": "IOError",
     "evalue": "[Errno 2] No such file or directory: 'Station Results_for_GIS_Phase2.xlsx'",
     "output_type": "error",
     "traceback": [
      "\u001b[0;31m---------------------------------------------------------------------------\u001b[0m",
      "\u001b[0;31mIOError\u001b[0m                                   Traceback (most recent call last)",
      "\u001b[0;32m<ipython-input-2-52d035b95f4f>\u001b[0m in \u001b[0;36m<module>\u001b[0;34m()\u001b[0m\n\u001b[0;32m----> 1\u001b[0;31m \u001b[0mdf\u001b[0m \u001b[0;34m=\u001b[0m \u001b[0mpd\u001b[0m\u001b[0;34m.\u001b[0m\u001b[0mread_excel\u001b[0m\u001b[0;34m(\u001b[0m\u001b[0mopen\u001b[0m\u001b[0;34m(\u001b[0m\u001b[0;34m'Station Results_for_GIS_Phase2.xlsx'\u001b[0m\u001b[0;34m,\u001b[0m\u001b[0;34m'rb'\u001b[0m\u001b[0;34m)\u001b[0m\u001b[0;34m,\u001b[0m \u001b[0msheet_name\u001b[0m\u001b[0;34m=\u001b[0m\u001b[0;36m1\u001b[0m\u001b[0;34m)\u001b[0m\u001b[0;34m\u001b[0m\u001b[0m\n\u001b[0m",
      "\u001b[0;31mIOError\u001b[0m: [Errno 2] No such file or directory: 'Station Results_for_GIS_Phase2.xlsx'"
     ]
    }
   ],
   "source": [
    "df = pd.read_excel(open('Station Results_for_GIS_Phase2.xlsx','rb'), sheet_name=1)"
   ]
  },
  {
   "cell_type": "code",
   "execution_count": 8,
   "metadata": {
    "collapsed": false
   },
   "outputs": [
    {
     "data": {
      "text/html": [
       "<div>\n",
       "<style scoped>\n",
       "    .dataframe tbody tr th:only-of-type {\n",
       "        vertical-align: middle;\n",
       "    }\n",
       "\n",
       "    .dataframe tbody tr th {\n",
       "        vertical-align: top;\n",
       "    }\n",
       "\n",
       "    .dataframe thead th {\n",
       "        text-align: right;\n",
       "    }\n",
       "</style>\n",
       "<table border=\"1\" class=\"dataframe\">\n",
       "  <thead>\n",
       "    <tr style=\"text-align: right;\">\n",
       "      <th></th>\n",
       "      <th>ModelRunName</th>\n",
       "      <th>SelectedFacilities</th>\n",
       "    </tr>\n",
       "  </thead>\n",
       "  <tbody>\n",
       "    <tr>\n",
       "      <th>0</th>\n",
       "      <td>101-5</td>\n",
       "      <td>367 506 64 256 569</td>\n",
       "    </tr>\n",
       "    <tr>\n",
       "      <th>1</th>\n",
       "      <td>101-10</td>\n",
       "      <td>367 506 64 569 526 626 769 15 154 346</td>\n",
       "    </tr>\n",
       "    <tr>\n",
       "      <th>2</th>\n",
       "      <td>101-15</td>\n",
       "      <td>367 506 569 526 626 769 15 154 346 231 521 714...</td>\n",
       "    </tr>\n",
       "    <tr>\n",
       "      <th>3</th>\n",
       "      <td>102-5</td>\n",
       "      <td>367 506 66 798 256</td>\n",
       "    </tr>\n",
       "    <tr>\n",
       "      <th>4</th>\n",
       "      <td>102-10</td>\n",
       "      <td>367 506 66 798 256 569 80 526 769 714</td>\n",
       "    </tr>\n",
       "    <tr>\n",
       "      <th>5</th>\n",
       "      <td>102-15</td>\n",
       "      <td>367 506 66 798 569 80 526 769 714 626 15 154 3...</td>\n",
       "    </tr>\n",
       "    <tr>\n",
       "      <th>6</th>\n",
       "      <td>103-5</td>\n",
       "      <td>367 506 80 256 66</td>\n",
       "    </tr>\n",
       "    <tr>\n",
       "      <th>7</th>\n",
       "      <td>103-10</td>\n",
       "      <td>367 506 80 256 66 569 526 626 769 15</td>\n",
       "    </tr>\n",
       "    <tr>\n",
       "      <th>8</th>\n",
       "      <td>103-15</td>\n",
       "      <td>367 506 80 66 569 526 626 769 15 154 346 252 2...</td>\n",
       "    </tr>\n",
       "    <tr>\n",
       "      <th>9</th>\n",
       "      <td>104-5</td>\n",
       "      <td>367 506 66 256 769</td>\n",
       "    </tr>\n",
       "    <tr>\n",
       "      <th>10</th>\n",
       "      <td>104-10</td>\n",
       "      <td>367 506 66 569 725 712 256 769 526 80</td>\n",
       "    </tr>\n",
       "    <tr>\n",
       "      <th>11</th>\n",
       "      <td>104-15</td>\n",
       "      <td>367 506 66 569 725 712 769 526 80 714 15 593 1...</td>\n",
       "    </tr>\n",
       "    <tr>\n",
       "      <th>12</th>\n",
       "      <td>201</td>\n",
       "      <td>66 80 367 454 506</td>\n",
       "    </tr>\n",
       "    <tr>\n",
       "      <th>13</th>\n",
       "      <td>202</td>\n",
       "      <td>15 66 80 256 341 367 402 454 506 626</td>\n",
       "    </tr>\n",
       "    <tr>\n",
       "      <th>14</th>\n",
       "      <td>203</td>\n",
       "      <td>15 66 80 256 341 367 402 454 506 526 569 593 6...</td>\n",
       "    </tr>\n",
       "    <tr>\n",
       "      <th>15</th>\n",
       "      <td>204</td>\n",
       "      <td>66 367 454 506 798</td>\n",
       "    </tr>\n",
       "    <tr>\n",
       "      <th>16</th>\n",
       "      <td>205</td>\n",
       "      <td>15 66 80 367 454 506 593 667 792 798</td>\n",
       "    </tr>\n",
       "    <tr>\n",
       "      <th>17</th>\n",
       "      <td>206</td>\n",
       "      <td>15 66 80 256 341 367 402 454 506 569 593 667 7...</td>\n",
       "    </tr>\n",
       "    <tr>\n",
       "      <th>18</th>\n",
       "      <td>207</td>\n",
       "      <td>66 80 367 454 506</td>\n",
       "    </tr>\n",
       "    <tr>\n",
       "      <th>19</th>\n",
       "      <td>208</td>\n",
       "      <td>15 66 80 256 341 367 402 454 506 626</td>\n",
       "    </tr>\n",
       "    <tr>\n",
       "      <th>20</th>\n",
       "      <td>209</td>\n",
       "      <td>15 66 80 154 256 341 367 402 454 506 526 569 5...</td>\n",
       "    </tr>\n",
       "    <tr>\n",
       "      <th>21</th>\n",
       "      <td>210</td>\n",
       "      <td>66 367 506 712 798</td>\n",
       "    </tr>\n",
       "    <tr>\n",
       "      <th>22</th>\n",
       "      <td>211</td>\n",
       "      <td>15 66 80 367 454 506 569 667 712 798</td>\n",
       "    </tr>\n",
       "    <tr>\n",
       "      <th>23</th>\n",
       "      <td>212</td>\n",
       "      <td>15 66 80 256 341 367 454 506 569 593 667 712 7...</td>\n",
       "    </tr>\n",
       "  </tbody>\n",
       "</table>\n",
       "</div>"
      ],
      "text/plain": [
       "   ModelRunName                                 SelectedFacilities\n",
       "0         101-5                                367 506 64 256 569 \n",
       "1        101-10              367 506 64 569 526 626 769 15 154 346\n",
       "2        101-15  367 506 569 526 626 769 15 154 346 231 521 714...\n",
       "3         102-5                                 367 506 66 798 256\n",
       "4        102-10              367 506 66 798 256 569 80 526 769 714\n",
       "5        102-15  367 506 66 798 569 80 526 769 714 626 15 154 3...\n",
       "6         103-5                                  367 506 80 256 66\n",
       "7        103-10               367 506 80 256 66 569 526 626 769 15\n",
       "8        103-15  367 506 80 66 569 526 626 769 15 154 346 252 2...\n",
       "9         104-5                                 367 506 66 256 769\n",
       "10       104-10              367 506 66 569 725 712 256 769 526 80\n",
       "11       104-15  367 506 66 569 725 712 769 526 80 714 15 593 1...\n",
       "12          201                                  66 80 367 454 506\n",
       "13          202               15 66 80 256 341 367 402 454 506 626\n",
       "14          203  15 66 80 256 341 367 402 454 506 526 569 593 6...\n",
       "15          204                                 66 367 454 506 798\n",
       "16          205               15 66 80 367 454 506 593 667 792 798\n",
       "17          206  15 66 80 256 341 367 402 454 506 569 593 667 7...\n",
       "18          207                                  66 80 367 454 506\n",
       "19          208              15 66 80 256 341 367 402 454 506 626 \n",
       "20          209  15 66 80 154 256 341 367 402 454 506 526 569 5...\n",
       "21          210                                 66 367 506 712 798\n",
       "22          211               15 66 80 367 454 506 569 667 712 798\n",
       "23          212  15 66 80 256 341 367 454 506 569 593 667 712 7..."
      ]
     },
     "execution_count": 8,
     "metadata": {},
     "output_type": "execute_result"
    }
   ],
   "source": [
    "df"
   ]
  },
  {
   "cell_type": "code",
   "execution_count": 9,
   "metadata": {
    "collapsed": true
   },
   "outputs": [],
   "source": [
    "# https://stackoverflow.com/questions/41624241/pandas-split-dataframe-into-two-dataframes\n",
    "dfDFRLM = df.iloc[0:12]\n",
    "dfFRLM = df.iloc[12:]"
   ]
  },
  {
   "cell_type": "code",
   "execution_count": 12,
   "metadata": {
    "collapsed": false
   },
   "outputs": [
    {
     "data": {
      "text/html": [
       "<div>\n",
       "<style scoped>\n",
       "    .dataframe tbody tr th:only-of-type {\n",
       "        vertical-align: middle;\n",
       "    }\n",
       "\n",
       "    .dataframe tbody tr th {\n",
       "        vertical-align: top;\n",
       "    }\n",
       "\n",
       "    .dataframe thead th {\n",
       "        text-align: right;\n",
       "    }\n",
       "</style>\n",
       "<table border=\"1\" class=\"dataframe\">\n",
       "  <thead>\n",
       "    <tr style=\"text-align: right;\">\n",
       "      <th></th>\n",
       "      <th>ModelRunName</th>\n",
       "      <th>SelectedFacilities</th>\n",
       "    </tr>\n",
       "  </thead>\n",
       "  <tbody>\n",
       "    <tr>\n",
       "      <th>0</th>\n",
       "      <td>101-5</td>\n",
       "      <td>367 506 64 256 569</td>\n",
       "    </tr>\n",
       "    <tr>\n",
       "      <th>1</th>\n",
       "      <td>101-10</td>\n",
       "      <td>367 506 64 569 526 626 769 15 154 346</td>\n",
       "    </tr>\n",
       "    <tr>\n",
       "      <th>2</th>\n",
       "      <td>101-15</td>\n",
       "      <td>367 506 569 526 626 769 15 154 346 231 521 714...</td>\n",
       "    </tr>\n",
       "    <tr>\n",
       "      <th>3</th>\n",
       "      <td>102-5</td>\n",
       "      <td>367 506 66 798 256</td>\n",
       "    </tr>\n",
       "    <tr>\n",
       "      <th>4</th>\n",
       "      <td>102-10</td>\n",
       "      <td>367 506 66 798 256 569 80 526 769 714</td>\n",
       "    </tr>\n",
       "    <tr>\n",
       "      <th>5</th>\n",
       "      <td>102-15</td>\n",
       "      <td>367 506 66 798 569 80 526 769 714 626 15 154 3...</td>\n",
       "    </tr>\n",
       "    <tr>\n",
       "      <th>6</th>\n",
       "      <td>103-5</td>\n",
       "      <td>367 506 80 256 66</td>\n",
       "    </tr>\n",
       "    <tr>\n",
       "      <th>7</th>\n",
       "      <td>103-10</td>\n",
       "      <td>367 506 80 256 66 569 526 626 769 15</td>\n",
       "    </tr>\n",
       "    <tr>\n",
       "      <th>8</th>\n",
       "      <td>103-15</td>\n",
       "      <td>367 506 80 66 569 526 626 769 15 154 346 252 2...</td>\n",
       "    </tr>\n",
       "    <tr>\n",
       "      <th>9</th>\n",
       "      <td>104-5</td>\n",
       "      <td>367 506 66 256 769</td>\n",
       "    </tr>\n",
       "    <tr>\n",
       "      <th>10</th>\n",
       "      <td>104-10</td>\n",
       "      <td>367 506 66 569 725 712 256 769 526 80</td>\n",
       "    </tr>\n",
       "    <tr>\n",
       "      <th>11</th>\n",
       "      <td>104-15</td>\n",
       "      <td>367 506 66 569 725 712 769 526 80 714 15 593 1...</td>\n",
       "    </tr>\n",
       "  </tbody>\n",
       "</table>\n",
       "</div>"
      ],
      "text/plain": [
       "   ModelRunName                                 SelectedFacilities\n",
       "0         101-5                                367 506 64 256 569 \n",
       "1        101-10              367 506 64 569 526 626 769 15 154 346\n",
       "2        101-15  367 506 569 526 626 769 15 154 346 231 521 714...\n",
       "3         102-5                                 367 506 66 798 256\n",
       "4        102-10              367 506 66 798 256 569 80 526 769 714\n",
       "5        102-15  367 506 66 798 569 80 526 769 714 626 15 154 3...\n",
       "6         103-5                                  367 506 80 256 66\n",
       "7        103-10               367 506 80 256 66 569 526 626 769 15\n",
       "8        103-15  367 506 80 66 569 526 626 769 15 154 346 252 2...\n",
       "9         104-5                                 367 506 66 256 769\n",
       "10       104-10              367 506 66 569 725 712 256 769 526 80\n",
       "11       104-15  367 506 66 569 725 712 769 526 80 714 15 593 1..."
      ]
     },
     "execution_count": 12,
     "metadata": {},
     "output_type": "execute_result"
    }
   ],
   "source": [
    "dfDFRLM"
   ]
  },
  {
   "cell_type": "code",
   "execution_count": 14,
   "metadata": {
    "collapsed": false
   },
   "outputs": [
    {
     "name": "stdout",
     "output_type": "stream",
     "text": [
      "     0    1    2    3    4    5    6    7    8    9    10   11   12   13   14\n",
      "0        569  256   64  506  367  NaN  NaN  NaN  NaN  NaN  NaN  NaN  NaN  NaN\n",
      "1   346  154   15  769  626  526  569   64  506  367  NaN  NaN  NaN  NaN  NaN\n",
      "2   252   80   66  714  521  231  346  154   15  769  626  526  569  506  367\n",
      "3   256  798   66  506  367  NaN  NaN  NaN  NaN  NaN  NaN  NaN  NaN  NaN  NaN\n",
      "4   714  769  526   80  569  256  798   66  506  367  NaN  NaN  NaN  NaN  NaN\n",
      "5   231  252  346  154   15  626  714  769  526   80  569  798   66  506  367\n",
      "6    66  256   80  506  367  NaN  NaN  NaN  NaN  NaN  NaN  NaN  NaN  NaN  NaN\n",
      "7    15  769  626  526  569   66  256   80  506  367  NaN  NaN  NaN  NaN  NaN\n",
      "8   714  521  231  252  346  154   15  769  626  526  569   66   80  506  367\n",
      "9   769  256   66  506  367  NaN  NaN  NaN  NaN  NaN  NaN  NaN  NaN  NaN  NaN\n",
      "10   80  526  769  256  712  725  569   66  506  367  NaN  NaN  NaN  NaN  NaN\n",
      "11  252  346  154  593   15  714   80  526  769  712  725  569   66  506  367\n"
     ]
    }
   ],
   "source": [
    "#Pandas Dataframe: split column into multiple columns, right-align inconsistent cell entries\n",
    "#https://stackoverflow.com/questions/23317342/pandas-dataframe-split-column-into-multiple-columns-right-align-inconsistent-c\n",
    "foo1 = lambda x: pd.Series([i for i in reversed(x.split(' '))])\n",
    "dfDFRLMsplit = dfDFRLM['SelectedFacilities'].apply(foo1)\n",
    "print dfDFRLMsplit"
   ]
  },
  {
   "cell_type": "code",
   "execution_count": 21,
   "metadata": {
    "collapsed": false
   },
   "outputs": [
    {
     "data": {
      "text/plain": [
       "0        \n",
       "1     346\n",
       "2     252\n",
       "3     256\n",
       "4     714\n",
       "5     231\n",
       "6      66\n",
       "7      15\n",
       "8     714\n",
       "9     769\n",
       "10     80\n",
       "11    252\n",
       "Name: 0, dtype: object"
      ]
     },
     "execution_count": 21,
     "metadata": {},
     "output_type": "execute_result"
    }
   ],
   "source": [
    "dfDFRLMsplit[0]"
   ]
  },
  {
   "cell_type": "code",
   "execution_count": 11,
   "metadata": {
    "collapsed": false
   },
   "outputs": [
    {
     "name": "stdout",
     "output_type": "stream",
     "text": [
      "     0    1    2    3    4    5    6    7    8    9    10   11   12   13   14\n",
      "12  506  454  367   80   66  NaN  NaN  NaN  NaN  NaN  NaN  NaN  NaN  NaN  NaN\n",
      "13  626  506  454  402  367  341  256   80   66   15  NaN  NaN  NaN  NaN  NaN\n",
      "14  798  769  626  593  569  526  506  454  402  367  341  256   80   66   15\n",
      "15  798  506  454  367   66  NaN  NaN  NaN  NaN  NaN  NaN  NaN  NaN  NaN  NaN\n",
      "16  798  792  667  593  506  454  367   80   66   15  NaN  NaN  NaN  NaN  NaN\n",
      "17  798  792  714  667  593  569  506  454  402  367  341  256   80   66   15\n",
      "18  506  454  367   80   66  NaN  NaN  NaN  NaN  NaN  NaN  NaN  NaN  NaN  NaN\n",
      "19       626  506  454  402  367  341  256   80   66   15  NaN  NaN  NaN  NaN\n",
      "20  769  626  593  569  526  506  454  402  367  341  256  154   80   66   15\n",
      "21  798  712  506  367   66  NaN  NaN  NaN  NaN  NaN  NaN  NaN  NaN  NaN  NaN\n",
      "22  798  712  667  569  506  454  367   80   66   15  NaN  NaN  NaN  NaN  NaN\n",
      "23  798  792  714  712  667  593  569  506  454  367  341  256   80   66   15\n"
     ]
    }
   ],
   "source": [
    "foo2 = lambda x: pd.Series([i for i in reversed(x.split(' '))])\n",
    "dfFRLMsplit = dfFRLM['SelectedFacilities'].apply(foo2)\n",
    "print dfFRLMsplit"
   ]
  },
  {
   "cell_type": "code",
   "execution_count": null,
   "metadata": {
    "collapsed": false
   },
   "outputs": [],
   "source": []
  },
  {
   "cell_type": "code",
   "execution_count": null,
   "metadata": {
    "collapsed": true
   },
   "outputs": [],
   "source": []
  }
 ],
 "metadata": {
  "kernelspec": {
   "display_name": "Python 2",
   "language": "python",
   "name": "python2"
  },
  "language_info": {
   "codemirror_mode": {
    "name": "ipython",
    "version": 2
   },
   "file_extension": ".py",
   "mimetype": "text/x-python",
   "name": "python",
   "nbconvert_exporter": "python",
   "pygments_lexer": "ipython2",
   "version": "2.7.13"
  }
 },
 "nbformat": 4,
 "nbformat_minor": 2
}
